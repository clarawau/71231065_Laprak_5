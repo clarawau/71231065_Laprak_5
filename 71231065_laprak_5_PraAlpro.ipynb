{
 "cells": [
  {
   "cell_type": "code",
   "execution_count": 7,
   "id": "2d06192d",
   "metadata": {},
   "outputs": [
    {
     "name": "stdout",
     "output_type": "stream",
     "text": [
      "masukan angka pertamanya : 4\n",
      "masukan angka keduanya : 3\n",
      "4 x 3 = 4 + 4 + 4 =  12\n"
     ]
    }
   ],
   "source": [
    "def  perkalian(bil1, bil2):\n",
    "    hasil = 0\n",
    "    for i in range(bil1):\n",
    "        hasil += bil2\n",
    "    return hasil\n",
    "bil1 = int(input(\"masukan angka pertamanya : \"))\n",
    "bil2 = int(input(\"masukan angka keduanya : \"))\n",
    "print(f\"{bil1} x {bil2} =\", end=\" \")\n",
    "for i in range(bil2):\n",
    "    if i < bil2 - 1:\n",
    "        print(f\"{bil1} +\", end=\" \")\n",
    "else:\n",
    "        print(f\"{bil1}\", end=\" \")\n",
    "print(\"= \", perkalian(bil1, bil2))"
   ]
  },
  {
   "cell_type": "code",
   "execution_count": 9,
   "id": "ddf30109",
   "metadata": {},
   "outputs": [
    {
     "name": "stdout",
     "output_type": "stream",
     "text": [
      "masukan batas bawah : 10\n",
      "masukan batas atas : 30\n",
      "deret bilangan ganjil : \n",
      "11 13 15 17 19 21 23 25 27 29 "
     ]
    }
   ],
   "source": [
    "def ganjil(bawah, atas):\n",
    "    if bawah < atas :\n",
    "        for i in range(bawah, atas + 1):\n",
    "            if i %2 == 1:\n",
    "                print(i, end=\" \")\n",
    "    else:\n",
    "        for i in range(bawah, atas -1, -1):\n",
    "            if i % 2 == 1:\n",
    "                print(i, end=\" \")\n",
    "bawah = int(input(\"masukan batas bawah : \"))\n",
    "atas = int(input(\"masukan batas atas : \"))\n",
    "print(\"deret bilangan ganjil : \")\n",
    "ganjil(bawah, atas)"
   ]
  },
  {
   "cell_type": "code",
   "execution_count": 4,
   "id": "9ecd4d04",
   "metadata": {},
   "outputs": [
    {
     "name": "stdout",
     "output_type": "stream",
     "text": [
      "masukan jumlah mata kuliah : 3\n",
      "masukan nilai untuk mata kuliah (contoh nya (A, B, C, atau D): A\n",
      "masukan nilai untuk mata kuliah (contoh nya (A, B, C, atau D): B\n",
      "masukan nilai untuk mata kuliah (contoh nya (A, B, C, atau D): A\n",
      "ips yang didapatkan : 3.67\n"
     ]
    }
   ],
   "source": [
    "def hitung_ips(jumlah_mata_kuliah):\n",
    "    total_bobot = 0\n",
    "    for i in range(jumlah_mata_kuliah):\n",
    "        while True:\n",
    "            nilai = input(\"masukan nilai untuk mata kuliah (contoh nya (A, B, C, atau D): \")\n",
    "            if nilai in ['A', 'B', 'C', 'D']:\n",
    "                break\n",
    "            print(\"input tidak valid, masukan nilai dengan benar (contoh nya (A, B, C, atau D)\")\n",
    "        total_bobot += {'A': 4, 'B': 3, 'C': 2, 'D': 1}[nilai]*3\n",
    "    return total_bobot / (jumlah_mata_kuliah * 3)\n",
    "jumlah_mata_kuliah = int(input(\"masukan jumlah mata kuliah : \"))\n",
    "hasil_ips = hitung_ips(jumlah_mata_kuliah)\n",
    "print(f\"ips yang didapatkan : {hasil_ips:.2f}\")"
   ]
  }
 ],
 "metadata": {
  "kernelspec": {
   "display_name": "Python 3 (ipykernel)",
   "language": "python",
   "name": "python3"
  },
  "language_info": {
   "codemirror_mode": {
    "name": "ipython",
    "version": 3
   },
   "file_extension": ".py",
   "mimetype": "text/x-python",
   "name": "python",
   "nbconvert_exporter": "python",
   "pygments_lexer": "ipython3",
   "version": "3.11.5"
  }
 },
 "nbformat": 4,
 "nbformat_minor": 5
}
